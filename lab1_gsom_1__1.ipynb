{
 "cells": [
  {
   "cell_type": "markdown",
   "metadata": {},
   "source": [
    "## Лабораторная работа 1"
   ]
  },
  {
   "cell_type": "markdown",
   "metadata": {},
   "source": [
    "Вы - сотрудник отдела аналитики крупной компании.\n",
    "\n",
    "Ваша компания занимается продвижением товаров и услуг в соцсетях: ВКонтакте, Facebook, Instagram и TikTok.\n",
    "\n",
    "Руководитель отдела в курсе, что Вы знаете стандартный язык Python и доверил Вам анализ группы в соцсети.\n",
    "Это одна из групп, которую вскоре планируется задействовать для продвижения нового товара.\n",
    "\n",
    "Руководитель просит предоставить наглядный отчет в Jupyter Notebook с графиками.\n",
    "\n",
    "Детали отчета остаются на Ваше усмотрение.\n",
    "\n",
    "Задачи, которые сформулировал руководитель:\n",
    "\n",
    "1) определить статистику посещаемости группы (просмотры/посещения в год); \n",
    "\n",
    "2) провести анализ охвата аудитории (reach/reach_subscribers);\n",
    "\n",
    "3) провести анализ демографии (пол - gender, возраст аудитории - age, gender_age, страна - countries);\n",
    "\n",
    "4) провести анализ обратной связи.\n",
    "\n",
    "5) обосновать, подходит ли данная группа для продвижения нового товара среди активных пользователей из России моложе 30 лет?\n",
    "\n",
    "До старта рекламной кампании остается совсем немного времни. "
   ]
  },
  {
   "cell_type": "markdown",
   "metadata": {},
   "source": [
    "**ВНИМАНИЕ**: про данные статистики ВК [тут](https://vk.com/dev/objects/stats_format), про виральный охватат [тут](https://vk.com/@adminsclub-viral-reach)"
   ]
  },
  {
   "cell_type": "markdown",
   "metadata": {},
   "source": [
    "# Лабораторная работа №1\n",
    "## Аналитический отчет по группе в социальной сети \"Вконтакте\"\n"
   ]
  },
  {
   "cell_type": "markdown",
   "metadata": {},
   "source": [
    "Для начала импортируем все необходимые модули"
   ]
  },
  {
   "cell_type": "code",
   "execution_count": 3,
   "metadata": {},
   "outputs": [],
   "source": [
    "import csv\n",
    "import matplotlib\n",
    "import matplotlib.pyplot as plt\n",
    "import numpy as np\n",
    "import pandas as pd"
   ]
  },
  {
   "cell_type": "markdown",
   "metadata": {},
   "source": [
    "Импортируем предоставленные данные"
   ]
  },
  {
   "cell_type": "code",
   "execution_count": 4,
   "metadata": {},
   "outputs": [],
   "source": [
    "data=pd.read_csv('vkontakte_group_02_2016-08-01_2020-03-15.csv', parse_dates=['Дата'])\n",
    "\n"
   ]
  },
  {
   "cell_type": "code",
   "execution_count": null,
   "metadata": {},
   "outputs": [],
   "source": [
    "def autolabel(graph):\n",
    "    for rect in graph:\n",
    "        height = rect.get_height()\n",
    "        ax.annotate('{}'.format(height),\n",
    "        xy=(rect.get_x() + rect.get_width() / 2, height),\n",
    "        xytext=(0, 3), # 3 points vertical offset\n",
    "        textcoords=\"offset points\",\n",
    "        ha='center', va='bottom')"
   ]
  },
  {
   "cell_type": "markdown",
   "metadata": {},
   "source": [
    "##### 1. Посещаемость по годам"
   ]
  },
  {
   "cell_type": "code",
   "execution_count": null,
   "metadata": {},
   "outputs": [],
   "source": [
    "print(\"Количество просмотров\")\n",
    "print(data[data['Критерий']=='views'].groupby(data['Дата'].dt.year)['Значение'].sum())"
   ]
  },
  {
   "cell_type": "code",
   "execution_count": null,
   "metadata": {},
   "outputs": [],
   "source": [
    "visitors=data[data['Критерий']=='views'].groupby(data['Дата'].dt.year)['Значение'].sum().plot(kind='barh', title = 'Количество просмотров').set_ylabel(\"Годы\")"
   ]
  },
  {
   "cell_type": "code",
   "execution_count": null,
   "metadata": {},
   "outputs": [],
   "source": [
    "print(\"Количество посетителей\")\n",
    "print(data[data['Критерий']=='visitors'].groupby(data['Дата'].dt.year)['Значение'].sum())"
   ]
  },
  {
   "cell_type": "code",
   "execution_count": null,
   "metadata": {},
   "outputs": [],
   "source": [
    "x = list(set(data['Дата'].dt.year))\n",
    "y = list(data[data['Критерий']=='visitors'].groupby(data['Дата'].dt.year)['Значение'].sum())\n",
    "\n",
    "fig, ax = plt.subplots()\n",
    "graph0 = ax.bar(x, y, color = \"lightcoral\", label = \"Количество посетителей\")\n",
    "autolabel(graph0)\n",
    "ax.set_facecolor('seashell')\n",
    "fig.set_facecolor('floralwhite')\n",
    "fig.set_figwidth(12)\n",
    "fig.set_figheight(6)    \n",
    "ax.set_xlabel(\"Годы\")\n",
    "ax.set_ylabel(\"Посещения\")\n",
    "ax.legend()\n",
    "plt.show()\n"
   ]
  },
  {
   "cell_type": "markdown",
   "metadata": {},
   "source": [
    "##### 2.Охват аудитории"
   ]
  },
  {
   "cell_type": "code",
   "execution_count": null,
   "metadata": {},
   "outputs": [],
   "source": [
    "print(\"Полный охват\")\n",
    "print(data[data['Критерий']=='reach'].groupby(data['Дата'].dt.year)['Значение'].sum())"
   ]
  },
  {
   "cell_type": "code",
   "execution_count": null,
   "metadata": {},
   "outputs": [],
   "source": [
    "print(\"Охват подписчиков\")\n",
    "print(data[data['Критерий']=='reach_subscribers'].groupby(data['Дата'].dt.year)['Значение'].sum())"
   ]
  },
  {
   "cell_type": "code",
   "execution_count": null,
   "metadata": {},
   "outputs": [],
   "source": [
    "x1 = np.array(list(set(data['Дата'].dt.year))) - 0.2\n",
    "x2 = np.array(list(set(data['Дата'].dt.year))) + 0.2\n",
    "y1 = list(data[data['Критерий']=='reach'].groupby(data['Дата'].dt.year)['Значение'].sum())\n",
    "y2 = list(data[data['Критерий']=='reach_subscribers'].groupby(data['Дата'].dt.year)['Значение'].sum())\n",
    "\n",
    "fig, ax = plt.subplots()\n",
    "\n",
    "graph1=ax.bar(x1, y1, width = 0.4, label = \"Полный охват\")\n",
    "graph2=ax.bar(x2, y2, width = 0.4, label = \"Среди подписчиков\")\n",
    "#column.set_facecolor('white')\n",
    "ax.set_facecolor('seashell')\n",
    "fig.set_figwidth(12)    #  ширина Figure\n",
    "fig.set_figheight(6)    #  высота Figure\n",
    "fig.set_facecolor('floralwhite')\n",
    "autolabel(graph1)\n",
    "autolabel(graph2)\n",
    "ax.legend()\n",
    "plt.title('Охват')\n",
    "plt.show()"
   ]
  },
  {
   "cell_type": "markdown",
   "metadata": {},
   "source": [
    "##### 3.Демография"
   ]
  },
  {
   "cell_type": "markdown",
   "metadata": {},
   "source": [
    "###### 3.1 Пол"
   ]
  },
  {
   "cell_type": "code",
   "execution_count": null,
   "metadata": {},
   "outputs": [],
   "source": [
    "print(data[data['Критерий']=='gender'].groupby(data['Парам. №1'])['Значение'].sum())"
   ]
  },
  {
   "cell_type": "code",
   "execution_count": null,
   "metadata": {},
   "outputs": [],
   "source": [
    "plt.pie(list(data[data['Критерий']=='gender'].groupby(data['Парам. №1'])['Значение'].sum()), labels=list(set(data[data['Критерий']=='gender']['Парам. №1'])))\n",
    "plt.title('Половая структура')\n",
    "plt.show()"
   ]
  },
  {
   "cell_type": "markdown",
   "metadata": {},
   "source": [
    "###### 3.2 Возраст"
   ]
  },
  {
   "cell_type": "code",
   "execution_count": null,
   "metadata": {},
   "outputs": [],
   "source": [
    "print(data[data['Критерий']=='age'].groupby(data['Парам. №1'])['Значение'].sum())"
   ]
  },
  {
   "cell_type": "code",
   "execution_count": null,
   "metadata": {},
   "outputs": [],
   "source": [
    "x = sorted(list(set(data[data['Критерий']=='age']['Парам. №1'])))\n",
    "y = list(data[data['Критерий']=='age'].groupby(data['Парам. №1'])['Значение'].sum())\n",
    "fig, ax = plt.subplots()\n",
    "graph1 =ax.bar(x, y, color = [\"springgreen\", 'lime', 'lightgreen', 'limegreen', 'mediumseagreen', 'forestgreen', 'olive', 'darkolivegreen'])\n",
    "ax.set_facecolor('beige')\n",
    "fig.set_facecolor('floralwhite')\n",
    "fig.set_figwidth(12)   \n",
    "fig.set_figheight(6)\n",
    "ax.set_xlabel(\"Возраст\")\n",
    "ax.set_ylabel(\"Пользователи\")\n",
    "autolabel(graph1)\n",
    "plt.title('Возрастная структура')\n",
    "plt.show()"
   ]
  },
  {
   "cell_type": "markdown",
   "metadata": {},
   "source": [
    "###### 3.3 Половозрасттная структура"
   ]
  },
  {
   "cell_type": "code",
   "execution_count": null,
   "metadata": {},
   "outputs": [],
   "source": [
    "print(data[data['Критерий']=='gender_age'].groupby([data['Парам. №1'], data['Парам. №2']]).sum())"
   ]
  },
  {
   "cell_type": "code",
   "execution_count": null,
   "metadata": {},
   "outputs": [],
   "source": [
    "x1 =np.arange(len(sorted(list(set(data[data['Критерий']=='age']['Парам. №1'])))))\n",
    "x2 = np.arange(len(sorted(list(set(data[data['Критерий']=='age']['Парам. №1'])))))\n",
    "y1 = list(data[data['Критерий']=='gender_age'][data['Парам. №1']=='М'].groupby(data['Парам. №2'])['Значение'].sum())\n",
    "y2 = list(data[data['Критерий']=='gender_age'][data['Парам. №1']=='Ж'].groupby(data['Парам. №2'])['Значение'].sum())\n",
    "\n",
    "fig, ax = plt.subplots()\n",
    "\n",
    "graph1=ax.bar(x1 + 0.2 , y1, width = 0.4, label = \"Мужчины\")\n",
    "graph2=ax.bar(x2 - 0.2, y2, width = 0.4, label= 'Женщины')\n",
    "#column.set_facecolor('white')\n",
    "ax.set_facecolor('seashell')\n",
    "fig.set_figwidth(12)    #  ширина Figure\n",
    "fig.set_figheight(6)    #  высота Figure\n",
    "fig.set_facecolor('floralwhite')\n",
    "autolabel(graph1)\n",
    "autolabel(graph2)\n",
    "ax.legend()\n",
    "ax.set_xticks(x1)\n",
    "ax.set_xticklabels(sorted(list(set(data[data['Критерий']=='age']['Парам. №1']))))\n",
    "plt.title('Половозрастная структура')\n",
    "plt.show()"
   ]
  },
  {
   "cell_type": "markdown",
   "metadata": {},
   "source": [
    "###### 3.3 География"
   ]
  },
  {
   "cell_type": "code",
   "execution_count": null,
   "metadata": {},
   "outputs": [],
   "source": [
    "print(data[data['Критерий']=='countries'].groupby(data['Парам. №1'])['Значение'].sum())"
   ]
  },
  {
   "cell_type": "code",
   "execution_count": null,
   "metadata": {},
   "outputs": [],
   "source": [
    "countries = data[data['Критерий']=='countries'].groupby(data['Парам. №1'])['Значение'].sum().plot(kind=\"barh\", title = 'Распределение по странам', figsize = (20, 20)).set_ylabel('Страны')"
   ]
  },
  {
   "cell_type": "markdown",
   "metadata": {},
   "source": [
    "##### 4.Обратная связь"
   ]
  },
  {
   "cell_type": "code",
   "execution_count": null,
   "metadata": {},
   "outputs": [],
   "source": [
    "print(data[data['Критерий']=='feedback'].groupby([data['Дата'].dt.year, data['Парам. №1']])['Значение'].sum())"
   ]
  },
  {
   "cell_type": "code",
   "execution_count": null,
   "metadata": {},
   "outputs": [],
   "source": [
    "likes = list(data[data['Критерий']=='feedback'][data['Парам. №1']=='Нравится'] .groupby([data['Дата'].dt.year, data['Парам. №1']])['Значение'].sum())\n",
    "likes_years = list(set(data[data['Критерий']=='feedback'][data['Парам. №1']=='Нравится']['Дата'].dt.year))\n",
    "for i in list(set(data['Дата'].dt.year)):\n",
    "    if i not in likes_years:\n",
    "        for t in likes_years:\n",
    "            if i > t and i< (t+2):\n",
    "                likes_years.insert(likes_years.index(t)+1, i)\n",
    "                likes.insert(likes_years.index(t+1), 0)"
   ]
  },
  {
   "cell_type": "code",
   "execution_count": null,
   "metadata": {},
   "outputs": [],
   "source": [
    "comments = list(data[data['Критерий']=='feedback'][data['Парам. №1']=='Комментарии'] .groupby([data['Дата'].dt.year, data['Парам. №1']])['Значение'].sum())\n",
    "comments_years = list(set(data[data['Критерий']=='feedback'][data['Парам. №1']=='Комментарии']['Дата'].dt.year))\n",
    "for m in list(set(data['Дата'].dt.year)):\n",
    "    if m not in comments_years:\n",
    "        if m<q:\n",
    "            comments.insert(0,0)\n",
    "        else:\n",
    "            for q in comment_years:\n",
    "                if m > q and m < (q+2):\n",
    "                    comments_years.insert(comments_years.index(q)+1, m)\n",
    "                    comments.insert(comments_years.index(q+1), 0)"
   ]
  },
  {
   "cell_type": "code",
   "execution_count": null,
   "metadata": {},
   "outputs": [],
   "source": [
    "reposts = list(data[data['Критерий']=='feedback'][data['Парам. №1']=='Рассказали друзьям'] .groupby([data['Дата'].dt.year, data['Парам. №1']])['Значение'].sum())\n",
    "reposts_years = list(set(data[data['Критерий']=='feedback'][data['Парам. №1']=='Рассказали друзьям']['Дата'].dt.year))\n",
    "for m in list(set(data['Дата'].dt.year)):\n",
    "    if m not in reposts_years:\n",
    "        if m<q:\n",
    "            reposts.insert(0,0)\n",
    "        else:\n",
    "            for q in reposts_years:\n",
    "                if m > q and m < (q+2):\n",
    "                    reposts_years.insert(reposts_years.index(q)+1, m)\n",
    "                    reposts.insert(reposts_years.index(q+1), 0)"
   ]
  },
  {
   "cell_type": "code",
   "execution_count": null,
   "metadata": {},
   "outputs": [],
   "source": [
    "fig, ax = plt.subplots()\n",
    "like = ax.plot(list(set(data['Дата'].dt.year)), likes, label = \"Нравится\")\n",
    "comment = ax.plot(list(set(data['Дата'].dt.year)), comments, label = \"Комментарии\")\n",
    "repost = ax.plot(list(set(data['Дата'].dt.year)), reposts, label = \"Рассказали друзьям\")\n",
    "mention = ax.plot(list(set(data[data['Критерий']=='feedback'][data['Парам. №1']=='Упоминания']['Дата'].dt.year)), list(data[data['Критерий']=='feedback'][data['Парам. №1']=='Упоминания'] .groupby([data['Дата'].dt.year, data['Парам. №1']])['Значение'].sum()), label = \"Упоминания\")\n",
    "plt.legend()\n",
    "plt.xticks(list(set(data['Дата'].dt.year)),['2016', '2017', '2018', '2019', '2020'])\n",
    "plt.title('Обратная связь')\n",
    "plt.show()"
   ]
  },
  {
   "cell_type": "code",
   "execution_count": null,
   "metadata": {},
   "outputs": [],
   "source": [
    "view_lst=[]\n",
    "with open ('VK.csv', 'r', encoding='utf8') as file:\n",
    "    VK = csv.reader(file)\n",
    "    for line in VK:\n",
    "        if line[1]== 'views':\n",
    "            view_lst.append(line[4])\n",
    "view_lst= list(map(int, view_lst))\n",
    "sum(view_lst)"
   ]
  },
  {
   "cell_type": "code",
   "execution_count": null,
   "metadata": {},
   "outputs": [],
   "source": [
    "Counter(date)[2017]\n",
    "sum(view_lst[Counter(date)[2016]:Counter(date)[2016]+Counter(date)[2017]])\n",
    "sum(view_lst[-75:])"
   ]
  },
  {
   "cell_type": "code",
   "execution_count": null,
   "metadata": {},
   "outputs": [],
   "source": [
    "visitors=[]\n",
    "with open ('VK.csv', 'r', encoding='utf8') as file:\n",
    "    VK = csv.reader(file)\n",
    "    for line in VK:\n",
    "        if line[1]== 'visitors':\n",
    "            visitors.append(line[4])\n",
    "visitors= list(map(int, visitors))\n",
    "sum(visitors)\n",
    "len(visitors)"
   ]
  },
  {
   "cell_type": "code",
   "execution_count": null,
   "metadata": {},
   "outputs": [],
   "source": [
    "reach=[]\n",
    "with open ('VK.csv', 'r', encoding='utf8') as file:\n",
    "    VK = csv.reader(file)\n",
    "    for line in VK:\n",
    "        if line[1]== 'reach': #or line[1]== 'reach_subscribers':\n",
    "            reach.append(line[4])\n",
    "reach= list(map(int, reach))\n",
    "sum(reach)"
   ]
  },
  {
   "cell_type": "code",
   "execution_count": null,
   "metadata": {},
   "outputs": [],
   "source": [
    "date=[]\n",
    "with open ('VK.csv', 'r', encoding='utf8') as file:\n",
    "    VK = csv.reader(file)\n",
    "    for line in VK:\n",
    "        if line[0] != 'Дата' and line[1] == 'views': #or line[1]== 'reach_subscribers':\n",
    "            #date.append\n",
    "            line[0].split('.')\n",
    "            date.append(line[0].split('.')[2])\n",
    "date= list(map(int, date))"
   ]
  },
  {
   "cell_type": "code",
   "execution_count": null,
   "metadata": {},
   "outputs": [],
   "source": [
    "print(date[0:500])\n",
    "Counter(date)[2020]"
   ]
  },
  {
   "cell_type": "code",
   "execution_count": null,
   "metadata": {},
   "outputs": [],
   "source": [
    "len(visitors)\n",
    "len(date)\n",
    "print(reversed(list(dictf.values())))\n",
    "set(date)"
   ]
  },
  {
   "cell_type": "code",
   "execution_count": null,
   "metadata": {},
   "outputs": [],
   "source": [
    "x_coords = list(views.keys())\n",
    "\n",
    "y_coords =  list(views.values())\n",
    "\n",
    "# Построить линейный график.\n",
    "plt.plot(x_coords, y_coords)\n",
    "\n",
    "# Показать линейный график.\n",
    "plt.show()"
   ]
  },
  {
   "cell_type": "code",
   "execution_count": null,
   "metadata": {},
   "outputs": [],
   "source": [
    "lst=[]\n",
    "for i in range(2016,2021,1):\n",
    "    lst=sum(view_lst[0:Counter(date)[i]])\n",
    "lst"
   ]
  },
  {
   "cell_type": "code",
   "execution_count": null,
   "metadata": {},
   "outputs": [],
   "source": [
    "views.keys()"
   ]
  },
  {
   "cell_type": "code",
   "execution_count": null,
   "metadata": {},
   "outputs": [],
   "source": [
    "x = list(views.keys())\n",
    "y = list(views.values())\n",
    "\n",
    "fig, ax = plt.subplots()\n",
    "\n",
    "ax.bar(x, y)\n",
    "\n",
    "ax.set_facecolor('seashell')\n",
    "fig.set_facecolor('floralwhite')\n",
    "fig.set_figwidth(10)    #  ширина Figure\n",
    "fig.set_figheight(6)    #  высота Figure\n",
    "\n",
    "plt.show()"
   ]
  },
  {
   "cell_type": "code",
   "execution_count": null,
   "metadata": {},
   "outputs": [],
   "source": [
    "dictf={}\n",
    "with open ('VK.csv', 'r', encoding='utf8') as file:\n",
    "    VK = csv.reader(file)\n",
    "    for row in VK:\n",
    "        if row[1]== 'reach':\n",
    "        #if line[0] != 'Дата' and line[1] == 'reach': #or line[1]== 'reach_subscribers':\n",
    "            dictf[str(row[0])]=int(row[4])"
   ]
  },
  {
   "cell_type": "code",
   "execution_count": null,
   "metadata": {},
   "outputs": [],
   "source": [
    "gender=[]\n",
    "genderF=[]\n",
    "with open ('VK.csv', 'r', encoding='utf8') as file:\n",
    "    VK = csv.reader(file)\n",
    "    for line in VK:\n",
    "        if line[1]== 'gender' and line[2]== 'М' :\n",
    "            gender.append(line[4])\n",
    "gender= list(map(int, gender))\n",
    "genderF= list(map(int, genderF))\n",
    "print(sum(gender))\n"
   ]
  },
  {
   "cell_type": "code",
   "execution_count": null,
   "metadata": {},
   "outputs": [],
   "source": [
    "sum(genderF)"
   ]
  },
  {
   "cell_type": "code",
   "execution_count": null,
   "metadata": {},
   "outputs": [],
   "source": [
    "gend={}\n",
    "bame=[]\n",
    "with open ('VK.csv', 'r', encoding='utf8') as file:\n",
    "    VK = csv.reader(file)\n",
    "    for line in VK:\n",
    "        if line[0] != 'Дата' and line[1] == 'gender_age'  :\n",
    "            d = dict(name=line[1], bame = line[2], date=date, dict())\n",
    "            d['date']=dict(view=view_lst)\n",
    "            #gend[line[0]] ={'criterion': str(line[1]), 'parametr1':str(line[2]), 'parametr2':str(line[3]), 'value':int(line[4])}\n",
    "        #if line[1]== 'gender_age' and line[2]== 'Ж' :\n",
    "         #   genderF.append(line[4])\n",
    "          #  gend={'criterion': str(line[1]), 'parametr1':str(line[2]), 'parametr2':str(line[3]), 'value':int(line[4]\n",
    "#gend[criterion]"
   ]
  },
  {
   "cell_type": "code",
   "execution_count": null,
   "metadata": {},
   "outputs": [],
   "source": [
    "sum=0\n",
    "years=[2016,2017,2018,2019,2020]\n",
    "year_views = dict()\n",
    "file_handle=open('VK.csv',encoding='utf-8')\n",
    "stat = csv.reader(file_handle)\n",
    "for i in years:\n",
    "    for row in stat:\n",
    "        if row[1] == \"views\" and row[0].split('.')[2] == str(i):\n",
    "            sum += int(row[4])\n",
    "            year_views[str(i)]=sum\n",
    "    file_handle.seek(0)\n",
    "    sum = 0\n",
    "print(year_views)"
   ]
  },
  {
   "cell_type": "code",
   "execution_count": null,
   "metadata": {},
   "outputs": [],
   "source": [
    "s=0\n",
    "views = dict()\n",
    "with open ('VK.csv', 'r', encoding='utf8') as file:\n",
    "    VK = csv.reader(file)\n",
    "    for i in list(set(date)):\n",
    "        for line in VK:\n",
    "            if line[1] == \"views\" and line[0].split('.')[2] == str(i):\n",
    "                s = s+int(line[4])\n",
    "                views[int(i)]=s\n",
    "        s = 0\n",
    "views"
   ]
  },
  {
   "cell_type": "code",
   "execution_count": null,
   "metadata": {},
   "outputs": [],
   "source": [
    "s=0\n",
    "visitors = {}\n",
    "with open ('VK.csv', 'r', encoding='utf8') as file:\n",
    "    VK = csv.reader(file)\n",
    "    for i in list(set(date)):\n",
    "        for line in VK:\n",
    "            if line[1] == \"visitors\" and line[0].split('.')[2] == str(i):\n",
    "                s = s+int(line[4])\n",
    "                visitors[int(i)]=s\n",
    "        file.seek(0)\n",
    "        s = 0\n",
    "visitors"
   ]
  },
  {
   "cell_type": "code",
   "execution_count": null,
   "metadata": {},
   "outputs": [],
   "source": [
    "s=0\n",
    "reach = {}\n",
    "with open ('VK.csv', 'r', encoding='utf8') as file:\n",
    "    VK = csv.reader(file)\n",
    "    for i in list(set(date)):\n",
    "        for line in VK:\n",
    "            if line[1] == \"reach\" and line[0].split('.')[2] == str(i):\n",
    "                s = s+int(line[4])\n",
    "                reach[int(i)]=s\n",
    "        file.seek(0)\n",
    "        s = 0\n",
    "reach"
   ]
  },
  {
   "cell_type": "code",
   "execution_count": null,
   "metadata": {},
   "outputs": [],
   "source": [
    "s=0\n",
    "reach_subscribers = dict()\n",
    "with open ('VK.csv', 'r', encoding='utf8') as file:\n",
    "    VK = csv.reader(file)\n",
    "    for i in list(set(date)):\n",
    "        for line in VK:\n",
    "            if line[1] == \"reach_subscribers\" and line[0].split('.')[2] == str(i):\n",
    "                s = s+int(line[4])\n",
    "                reach_subscribers[int(i)]=s\n",
    "        file.seek(0)\n",
    "        s = 0\n",
    "reach_subscribers"
   ]
  },
  {
   "cell_type": "code",
   "execution_count": 6,
   "metadata": {},
   "outputs": [
    {
     "ename": "NameError",
     "evalue": "name 'date' is not defined",
     "output_type": "error",
     "traceback": [
      "\u001b[1;31m---------------------------------------------------------------------------\u001b[0m",
      "\u001b[1;31mNameError\u001b[0m                                 Traceback (most recent call last)",
      "\u001b[1;32m<ipython-input-6-1edf49312b60>\u001b[0m in \u001b[0;36m<module>\u001b[1;34m\u001b[0m\n\u001b[0;32m      3\u001b[0m \u001b[1;32mwith\u001b[0m \u001b[0mopen\u001b[0m \u001b[1;33m(\u001b[0m\u001b[1;34m'vkontakte_group_02_2016-08-01_2020-03-15.csv'\u001b[0m\u001b[1;33m,\u001b[0m \u001b[1;34m'r'\u001b[0m\u001b[1;33m,\u001b[0m \u001b[0mencoding\u001b[0m\u001b[1;33m=\u001b[0m\u001b[1;34m'utf8'\u001b[0m\u001b[1;33m)\u001b[0m \u001b[1;32mas\u001b[0m \u001b[0mfile\u001b[0m\u001b[1;33m:\u001b[0m\u001b[1;33m\u001b[0m\u001b[1;33m\u001b[0m\u001b[0m\n\u001b[0;32m      4\u001b[0m     \u001b[0mVK\u001b[0m \u001b[1;33m=\u001b[0m \u001b[0mcsv\u001b[0m\u001b[1;33m.\u001b[0m\u001b[0mreader\u001b[0m\u001b[1;33m(\u001b[0m\u001b[0mfile\u001b[0m\u001b[1;33m)\u001b[0m\u001b[1;33m\u001b[0m\u001b[1;33m\u001b[0m\u001b[0m\n\u001b[1;32m----> 5\u001b[1;33m     \u001b[1;32mfor\u001b[0m \u001b[0mi\u001b[0m \u001b[1;32min\u001b[0m \u001b[0mlist\u001b[0m\u001b[1;33m(\u001b[0m\u001b[0mset\u001b[0m\u001b[1;33m(\u001b[0m\u001b[0mdate\u001b[0m\u001b[1;33m)\u001b[0m\u001b[1;33m)\u001b[0m\u001b[1;33m:\u001b[0m\u001b[1;33m\u001b[0m\u001b[1;33m\u001b[0m\u001b[0m\n\u001b[0m\u001b[0;32m      6\u001b[0m         \u001b[1;32mfor\u001b[0m \u001b[0mline\u001b[0m \u001b[1;32min\u001b[0m \u001b[0mVK\u001b[0m\u001b[1;33m:\u001b[0m\u001b[1;33m\u001b[0m\u001b[1;33m\u001b[0m\u001b[0m\n\u001b[0;32m      7\u001b[0m             \u001b[1;32mif\u001b[0m \u001b[0mline\u001b[0m\u001b[1;33m[\u001b[0m\u001b[1;36m1\u001b[0m\u001b[1;33m]\u001b[0m \u001b[1;33m==\u001b[0m \u001b[1;34m\"gender\"\u001b[0m \u001b[1;32mand\u001b[0m \u001b[0mline\u001b[0m\u001b[1;33m[\u001b[0m\u001b[1;36m0\u001b[0m\u001b[1;33m]\u001b[0m\u001b[1;33m.\u001b[0m\u001b[0msplit\u001b[0m\u001b[1;33m(\u001b[0m\u001b[1;34m'.'\u001b[0m\u001b[1;33m)\u001b[0m\u001b[1;33m[\u001b[0m\u001b[1;36m2\u001b[0m\u001b[1;33m]\u001b[0m \u001b[1;33m==\u001b[0m \u001b[0mstr\u001b[0m\u001b[1;33m(\u001b[0m\u001b[0mi\u001b[0m\u001b[1;33m)\u001b[0m\u001b[1;33m:\u001b[0m\u001b[1;33m\u001b[0m\u001b[1;33m\u001b[0m\u001b[0m\n",
      "\u001b[1;31mNameError\u001b[0m: name 'date' is not defined"
     ]
    }
   ],
   "source": [
    "s=0\n",
    "gender = dict()\n",
    "with open ('vkontakte_group_02_2016-08-01_2020-03-15.csv', 'r', encoding='utf8') as file:\n",
    "    VK = csv.reader(file)\n",
    "    for i in list(set(date)):\n",
    "        for line in VK:\n",
    "            if line[1] == \"gender\" and line[0].split('.')[2] == str(i):\n",
    "                s = s+int(line[4])\n",
    "                gender[int(i)]=s\n",
    "        file.seek(0)\n",
    "        s = 0\n",
    "reach_subscribers"
   ]
  },
  {
   "cell_type": "code",
   "execution_count": 7,
   "metadata": {},
   "outputs": [
    {
     "name": "stdout",
     "output_type": "stream",
     "text": [
      "{'Ж', 'М'}\n"
     ]
    }
   ],
   "source": [
    "gender=[]\n",
    "dgender=dict()\n",
    "with open ('vkontakte_group_02_2016-08-01_2020-03-15.csv', 'r', encoding='utf8') as file:\n",
    "    VK = csv.reader(file)\n",
    "    for line in VK:\n",
    "        if line[0] != 'Дата' and line[1] == 'gender': #or line[1]== 'reach_subscribers':\n",
    "            gender.append(line[2])\n",
    "        #dgender[set]\n",
    "            #line[0].split('.')\n",
    "            #date.append(line[0].split('.')[2])\n",
    "print(set(gender))"
   ]
  },
  {
   "cell_type": "code",
   "execution_count": 8,
   "metadata": {},
   "outputs": [
    {
     "name": "stdout",
     "output_type": "stream",
     "text": [
      "{}\n"
     ]
    }
   ],
   "source": [
    "s=0\n",
    "dgender = dict()\n",
    "with open ('vkontakte_group_02_2016-08-01_2020-03-15.csv', 'r', encoding='utf8') as file:\n",
    "    VK = csv.reader(file)\n",
    "    for i in list(set(gender)):\n",
    "        for line in VK:\n",
    "            if line[1] == \"countries\" and line[2] == str(i): #and line[0].split('.')[2] == str(i):\n",
    "                s = s+int(line[4])\n",
    "                dgender[str(i)]=s\n",
    "        file.seek(0)\n",
    "        s = 0\n",
    "print(dgender)\n"
   ]
  },
  {
   "cell_type": "code",
   "execution_count": 11,
   "metadata": {},
   "outputs": [
    {
     "name": "stdout",
     "output_type": "stream",
     "text": [
      "{'': 21, 'Малайзия': 2, 'Сингапур': 3, 'Армения': 5, 'США': 59, 'Пакистан': 1, 'Франция': 11, 'Узбекистан': 2, 'Таджикистан': 1, 'Тайвань': 1, 'Венгрия': 1, 'Израиль': 3, 'Украина': 67, 'Латвия': 1, 'Беларусь': 29, 'Эстония': 1, 'Финляндия': 2, 'Канада': 2, 'Казахстан': 52, 'Китай': 2, 'Япония': 2, 'Кыргызстан': 5, 'Молдова': 7, 'Россия': 2888, 'Таиланд': 6, 'Швеция': 3, 'Южная Корея': 3, 'Вьетнам': 2, 'Великобритания': 7, 'Нидерланды': 6, 'Испания': 4, 'Дания': 1, 'Индонезия': 3, 'Германия': 11, 'Италия': 1, 'Босния и Герцеговина': 1, 'Швейцария': 1, 'Ирландия': 1, 'Турция': 2, 'Азербайджан': 4, 'Бразилия': 1, 'Мексика': 1, 'Польша': 3}\n"
     ]
    }
   ],
   "source": [
    "s=0\n",
    "dcountries = dict()\n",
    "with open ('VK.csv', 'r', encoding='utf8') as file:\n",
    "    VK = csv.reader(file)\n",
    "    for i in list(set(countries)):\n",
    "        for line in VK:\n",
    "            if line[1] == \"countries\" and line[2] == str(i): #and line[0].split('.')[2] == str(i):\n",
    "                s = s+int(line[4])\n",
    "                dcountries[str(i)]=s\n",
    "        file.seek(0)\n",
    "        s = 0\n",
    "print(dcountries)\n"
   ]
  },
  {
   "cell_type": "code",
   "execution_count": 10,
   "metadata": {},
   "outputs": [
    {
     "data": {
      "text/plain": [
       "['',\n",
       " 'Малайзия',\n",
       " 'Сингапур',\n",
       " 'Армения',\n",
       " 'США',\n",
       " 'Пакистан',\n",
       " 'Франция',\n",
       " 'Узбекистан',\n",
       " 'Таджикистан',\n",
       " 'Тайвань',\n",
       " 'Венгрия',\n",
       " 'Израиль',\n",
       " 'Украина',\n",
       " 'Латвия',\n",
       " 'Беларусь',\n",
       " 'Эстония',\n",
       " 'Финляндия',\n",
       " 'Канада',\n",
       " 'Казахстан',\n",
       " 'Китай',\n",
       " 'Япония',\n",
       " 'Кыргызстан',\n",
       " 'Молдова',\n",
       " 'Россия',\n",
       " 'Таиланд',\n",
       " 'Швеция',\n",
       " 'Южная Корея',\n",
       " 'Вьетнам',\n",
       " 'Великобритания',\n",
       " 'Нидерланды',\n",
       " 'Испания',\n",
       " 'Дания',\n",
       " 'Индонезия',\n",
       " 'Германия',\n",
       " 'Италия',\n",
       " 'Босния и Герцеговина',\n",
       " 'Швейцария',\n",
       " 'Ирландия',\n",
       " 'Турция',\n",
       " 'Азербайджан',\n",
       " 'Бразилия',\n",
       " 'Мексика',\n",
       " 'Польша']"
      ]
     },
     "execution_count": 10,
     "metadata": {},
     "output_type": "execute_result"
    }
   ],
   "source": [
    "countries=[]\n",
    "with open ('VK.csv', 'r', encoding='utf8') as file:\n",
    "    VK = csv.reader(file)\n",
    "    for line in VK:\n",
    "        if line[0] != 'Дата' and line[1] == 'countries': #or line[1]== 'reach_subscribers':\n",
    "            countries.append(line[2])\n",
    "        #dgender[set]\n",
    "            #line[0].split('.')\n",
    "            #date.append(line[0].split('.')[2])\n",
    "countries =sorted(countries)\n",
    "list(set(countries))"
   ]
  },
  {
   "cell_type": "code",
   "execution_count": null,
   "metadata": {},
   "outputs": [],
   "source": [
    "import pandas as pd\n",
    "\n",
    "data=pd.read_csv('VK.csv', parse_dates=['Дата'])\n",
    "print(data[data['Критерий']=='views'].groupby(data['Дата'].dt.year)['Значение'].sum())"
   ]
  },
  {
   "cell_type": "code",
   "execution_count": null,
   "metadata": {},
   "outputs": [],
   "source": [
    "\n",
    "\n",
    "data=pd.read_csv('VK.csv', parse_dates=['Дата'])\n",
    "#for i in list(set(gender)):\n",
    "print(data[data['Критерий']=='gender_age'][data['Парам. №1']=='М'].groupby(data['Парам. №2'])['Значение'].sum())"
   ]
  },
  {
   "cell_type": "code",
   "execution_count": null,
   "metadata": {},
   "outputs": [],
   "source": [
    "age=[]\n",
    "with open ('VK.csv', 'r', encoding='utf8') as file:\n",
    "    VK = csv.reader(file)\n",
    "    for line in VK:\n",
    "        if line[0] != 'Дата' and line[1] == 'gender_age': #or line[1]== 'reach_subscribers':\n",
    "            age.append(line[3])\n",
    "        #dgender[set]\n",
    "            #line[0].split('.')\n",
    "            #date.append(line[0].split('.')[2])\n",
    "age =sorted(age)\n",
    "set(age)"
   ]
  },
  {
   "cell_type": "code",
   "execution_count": null,
   "metadata": {},
   "outputs": [],
   "source": [
    "view_lst= list(map(int, view_lst[0:]))\n",
    "sum(view_lst)"
   ]
  },
  {
   "cell_type": "code",
   "execution_count": null,
   "metadata": {},
   "outputs": [],
   "source": [
    "sns.set_context('notebook') # optimise figures for notebook display\n",
    "sns.set_style('ticks') # set default plot style\n",
    "colours = ['#1F77B4', '#FF7F0E', '#2CA02C', '#DB2728', '#9467BD', '#8C564B', '#E377C2','#7F7F7F', '#BCBD22', '#17BECF']\n",
    "crayon = ['#4E79A7','#F28E2C','#E15759','#76B7B2','#59A14F', '#EDC949','#AF7AA1','#FF9DA7','#9C755F','#BAB0AB']\n",
    "sns.set_palette(colours) # set custom color scheme\n",
    "%matplotlib inline\n",
    "plt.rcParams['figure.figsize'] = (9, 6)"
   ]
  },
  {
   "cell_type": "code",
   "execution_count": null,
   "metadata": {},
   "outputs": [],
   "source": [
    "data=pd.read_csv('VK.csv', parse_dates=['Дата'])\n",
    "data_plot=data[data['Критерий']=='gender_age'].groupby([data['Парам. №1'], data['Парам. №2']]).sum()\n",
    "print(data_plot)\n",
    "data_plot.plot(kind='bar')"
   ]
  },
  {
   "cell_type": "code",
   "execution_count": null,
   "metadata": {},
   "outputs": [],
   "source": [
    "s=0\n",
    "gage = dict()\n",
    "with open ('VK.csv', 'r', encoding='utf8') as file:\n",
    "    VK = csv.reader(file)\n",
    "    for i in list(set(gender)):\n",
    "        for t in list(set(age)):\n",
    "            for line in VK:\n",
    "                if line[1] == \"gender_age\" and line[2] == str(i): #and line[3] == str(t): #and line[0].split('.')[2] == str(i):\n",
    "                    s = s+int(line[4])\n",
    "                    gage[str(i)][str(t)]=s\n",
    "            file.seek(0)\n",
    "            s = 0\n",
    "gage\n"
   ]
  },
  {
   "cell_type": "code",
   "execution_count": null,
   "metadata": {},
   "outputs": [],
   "source": [
    "sns.barplot(data.loc[data['Парам. №1']=='М','Значение'],  label='Male')\n",
    "sns.bartplot(data.loc[data['Парам. №1']=='Ж','Значение'], label='Female')\n",
    "sns.despine()\n",
    "plt.show()"
   ]
  },
  {
   "cell_type": "code",
   "execution_count": null,
   "metadata": {},
   "outputs": [],
   "source": [
    "sns.barplot(x=data'Дата', y=data[data['Критерий']=='views'].groupby(data['Дата'].dt.year)['Значение'].sum() , data=data)"
   ]
  },
  {
   "cell_type": "code",
   "execution_count": null,
   "metadata": {},
   "outputs": [],
   "source": []
  },
  {
   "cell_type": "code",
   "execution_count": null,
   "metadata": {},
   "outputs": [],
   "source": []
  },
  {
   "cell_type": "code",
   "execution_count": null,
   "metadata": {},
   "outputs": [],
   "source": []
  },
  {
   "cell_type": "code",
   "execution_count": null,
   "metadata": {},
   "outputs": [],
   "source": []
  },
  {
   "cell_type": "code",
   "execution_count": null,
   "metadata": {},
   "outputs": [],
   "source": []
  },
  {
   "cell_type": "code",
   "execution_count": null,
   "metadata": {},
   "outputs": [],
   "source": []
  },
  {
   "cell_type": "code",
   "execution_count": null,
   "metadata": {},
   "outputs": [],
   "source": []
  },
  {
   "cell_type": "code",
   "execution_count": null,
   "metadata": {},
   "outputs": [],
   "source": []
  },
  {
   "cell_type": "code",
   "execution_count": null,
   "metadata": {},
   "outputs": [],
   "source": []
  },
  {
   "cell_type": "code",
   "execution_count": null,
   "metadata": {},
   "outputs": [],
   "source": []
  },
  {
   "cell_type": "code",
   "execution_count": null,
   "metadata": {},
   "outputs": [],
   "source": []
  },
  {
   "cell_type": "code",
   "execution_count": null,
   "metadata": {},
   "outputs": [],
   "source": []
  },
  {
   "cell_type": "code",
   "execution_count": null,
   "metadata": {},
   "outputs": [],
   "source": []
  },
  {
   "cell_type": "code",
   "execution_count": null,
   "metadata": {},
   "outputs": [],
   "source": []
  },
  {
   "cell_type": "code",
   "execution_count": null,
   "metadata": {},
   "outputs": [],
   "source": []
  },
  {
   "cell_type": "code",
   "execution_count": null,
   "metadata": {},
   "outputs": [],
   "source": []
  },
  {
   "cell_type": "code",
   "execution_count": null,
   "metadata": {},
   "outputs": [],
   "source": []
  },
  {
   "cell_type": "code",
   "execution_count": null,
   "metadata": {},
   "outputs": [],
   "source": []
  },
  {
   "cell_type": "code",
   "execution_count": null,
   "metadata": {},
   "outputs": [],
   "source": []
  },
  {
   "cell_type": "code",
   "execution_count": null,
   "metadata": {},
   "outputs": [],
   "source": []
  },
  {
   "cell_type": "code",
   "execution_count": null,
   "metadata": {},
   "outputs": [],
   "source": []
  },
  {
   "cell_type": "code",
   "execution_count": null,
   "metadata": {},
   "outputs": [],
   "source": []
  },
  {
   "cell_type": "code",
   "execution_count": null,
   "metadata": {},
   "outputs": [],
   "source": []
  },
  {
   "cell_type": "code",
   "execution_count": null,
   "metadata": {},
   "outputs": [],
   "source": []
  },
  {
   "cell_type": "code",
   "execution_count": null,
   "metadata": {},
   "outputs": [],
   "source": []
  },
  {
   "cell_type": "code",
   "execution_count": null,
   "metadata": {},
   "outputs": [],
   "source": []
  },
  {
   "cell_type": "code",
   "execution_count": null,
   "metadata": {},
   "outputs": [],
   "source": []
  },
  {
   "cell_type": "code",
   "execution_count": null,
   "metadata": {},
   "outputs": [],
   "source": []
  },
  {
   "cell_type": "code",
   "execution_count": null,
   "metadata": {},
   "outputs": [],
   "source": []
  },
  {
   "cell_type": "code",
   "execution_count": null,
   "metadata": {},
   "outputs": [],
   "source": []
  },
  {
   "cell_type": "code",
   "execution_count": null,
   "metadata": {},
   "outputs": [],
   "source": []
  },
  {
   "cell_type": "code",
   "execution_count": null,
   "metadata": {},
   "outputs": [],
   "source": []
  },
  {
   "cell_type": "code",
   "execution_count": null,
   "metadata": {},
   "outputs": [],
   "source": []
  },
  {
   "cell_type": "code",
   "execution_count": null,
   "metadata": {},
   "outputs": [],
   "source": []
  },
  {
   "cell_type": "code",
   "execution_count": null,
   "metadata": {},
   "outputs": [],
   "source": []
  },
  {
   "cell_type": "code",
   "execution_count": null,
   "metadata": {},
   "outputs": [],
   "source": []
  },
  {
   "cell_type": "code",
   "execution_count": null,
   "metadata": {},
   "outputs": [],
   "source": []
  },
  {
   "cell_type": "code",
   "execution_count": null,
   "metadata": {},
   "outputs": [],
   "source": []
  },
  {
   "cell_type": "code",
   "execution_count": null,
   "metadata": {},
   "outputs": [],
   "source": []
  },
  {
   "cell_type": "code",
   "execution_count": null,
   "metadata": {},
   "outputs": [],
   "source": []
  },
  {
   "cell_type": "code",
   "execution_count": null,
   "metadata": {},
   "outputs": [],
   "source": []
  },
  {
   "cell_type": "code",
   "execution_count": null,
   "metadata": {},
   "outputs": [],
   "source": []
  },
  {
   "cell_type": "code",
   "execution_count": null,
   "metadata": {},
   "outputs": [],
   "source": []
  },
  {
   "cell_type": "code",
   "execution_count": null,
   "metadata": {},
   "outputs": [],
   "source": []
  },
  {
   "cell_type": "code",
   "execution_count": null,
   "metadata": {},
   "outputs": [],
   "source": []
  },
  {
   "cell_type": "code",
   "execution_count": null,
   "metadata": {},
   "outputs": [],
   "source": [
    "view_lst = []"
   ]
  },
  {
   "cell_type": "code",
   "execution_count": null,
   "metadata": {},
   "outputs": [],
   "source": [
    "\n"
   ]
  },
  {
   "cell_type": "code",
   "execution_count": null,
   "metadata": {},
   "outputs": [],
   "source": []
  },
  {
   "cell_type": "code",
   "execution_count": null,
   "metadata": {},
   "outputs": [],
   "source": []
  },
  {
   "cell_type": "code",
   "execution_count": null,
   "metadata": {},
   "outputs": [],
   "source": []
  },
  {
   "cell_type": "code",
   "execution_count": null,
   "metadata": {},
   "outputs": [],
   "source": []
  },
  {
   "cell_type": "code",
   "execution_count": null,
   "metadata": {},
   "outputs": [],
   "source": []
  },
  {
   "cell_type": "code",
   "execution_count": null,
   "metadata": {},
   "outputs": [],
   "source": []
  },
  {
   "cell_type": "code",
   "execution_count": null,
   "metadata": {},
   "outputs": [],
   "source": []
  },
  {
   "cell_type": "code",
   "execution_count": null,
   "metadata": {},
   "outputs": [],
   "source": [
    "##"
   ]
  },
  {
   "cell_type": "code",
   "execution_count": null,
   "metadata": {},
   "outputs": [],
   "source": []
  },
  {
   "cell_type": "code",
   "execution_count": null,
   "metadata": {},
   "outputs": [],
   "source": []
  },
  {
   "cell_type": "code",
   "execution_count": null,
   "metadata": {},
   "outputs": [],
   "source": []
  },
  {
   "cell_type": "code",
   "execution_count": null,
   "metadata": {},
   "outputs": [],
   "source": []
  },
  {
   "cell_type": "code",
   "execution_count": null,
   "metadata": {},
   "outputs": [],
   "source": [
    "with open('responses.txt', 'r', encoding='utf8') as file:"
   ]
  },
  {
   "cell_type": "code",
   "execution_count": null,
   "metadata": {},
   "outputs": [],
   "source": []
  },
  {
   "cell_type": "code",
   "execution_count": null,
   "metadata": {},
   "outputs": [],
   "source": []
  },
  {
   "cell_type": "code",
   "execution_count": null,
   "metadata": {},
   "outputs": [],
   "source": []
  },
  {
   "cell_type": "code",
   "execution_count": null,
   "metadata": {},
   "outputs": [],
   "source": []
  },
  {
   "cell_type": "code",
   "execution_count": null,
   "metadata": {},
   "outputs": [],
   "source": []
  }
 ],
 "metadata": {
  "kernelspec": {
   "display_name": "Python 3",
   "language": "python",
   "name": "python3"
  },
  "language_info": {
   "codemirror_mode": {
    "name": "ipython",
    "version": 3
   },
   "file_extension": ".py",
   "mimetype": "text/x-python",
   "name": "python",
   "nbconvert_exporter": "python",
   "pygments_lexer": "ipython3",
   "version": "3.7.4"
  }
 },
 "nbformat": 4,
 "nbformat_minor": 4
}
